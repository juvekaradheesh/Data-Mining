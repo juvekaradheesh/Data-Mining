{
 "cells": [
  {
   "cell_type": "markdown",
   "metadata": {},
   "source": [
    "### Aim\n",
    "To implement ID3 decision tree based classification algorithm using python"
   ]
  },
  {
   "cell_type": "code",
   "execution_count": 1,
   "metadata": {},
   "outputs": [],
   "source": [
    "from sklearn import tree\n",
    "import pandas as pd\n",
    "from sklearn.preprocessing import LabelEncoder\n",
    "import numpy as np\n",
    "from sklearn.metrics import accuracy_score\n",
    "import ID3\n",
    "from numpy import transpose\n",
    "import sys\n",
    "import DataLoader"
   ]
  },
  {
   "cell_type": "markdown",
   "metadata": {},
   "source": [
    "### Some Preprocessing of data\n",
    "Converting the data to integer type using scikit learn label encoder"
   ]
  },
  {
   "cell_type": "code",
   "execution_count": 2,
   "metadata": {},
   "outputs": [],
   "source": [
    "[X,Y] = DataLoader.getDataset()\n",
    "[X_test,Y_test] = DataLoader.getDatasetTest()"
   ]
  },
  {
   "cell_type": "markdown",
   "metadata": {},
   "source": [
    "### ID3 implementation using scikit-learn library"
   ]
  },
  {
   "cell_type": "code",
   "execution_count": 3,
   "metadata": {
    "scrolled": false
   },
   "outputs": [],
   "source": [
    "clf = tree.DecisionTreeClassifier(criterion='entropy')\n",
    "clf = clf.fit(X, Y)"
   ]
  },
  {
   "cell_type": "code",
   "execution_count": 4,
   "metadata": {},
   "outputs": [
    {
     "name": "stdout",
     "output_type": "stream",
     "text": [
      "[0 0 1 ... 1 0 0]\n"
     ]
    }
   ],
   "source": [
    "Y_predicted = clf.predict(X_test)\n",
    "print(Y_predicted)"
   ]
  },
  {
   "cell_type": "code",
   "execution_count": 5,
   "metadata": {},
   "outputs": [
    {
     "data": {
      "text/plain": [
       "0.7314047048707082"
      ]
     },
     "execution_count": 5,
     "metadata": {},
     "output_type": "execute_result"
    }
   ],
   "source": [
    "accuracy_score(Y_test, Y_predicted)"
   ]
  },
  {
   "cell_type": "markdown",
   "metadata": {},
   "source": [
    "### ID3 implementation using our code"
   ]
  },
  {
   "cell_type": "markdown",
   "metadata": {},
   "source": [
    "<code>\n",
    "ID3 Library\n",
    "import pandas as pd\n",
    "import math\n",
    "import numpy as np\n",
    "from numpy import transpose\n",
    "import matplotlib.pyplot as plt\n",
    "from Tree import Node\n",
    "from sklearn.preprocessing import LabelEncoder\n",
    "import random\n",
    "\n",
    "def calculateInfoD(label):\n",
    "    classes = []\n",
    "    \"\"\"Create classes array with count\"\"\"\n",
    "    for x in label:\n",
    "        isfound = False\n",
    "        for y in classes:\n",
    "            if y[0] == x:\n",
    "                isfound = True\n",
    "                y[1] += 1\n",
    "        if not isfound:\n",
    "            classes.append([x,1])\n",
    "    \"\"\"Calculate the info(D)\"\"\"\n",
    "    gain = 0\n",
    "    total = len(label)\n",
    "    for x in classes:\n",
    "        gain += (x[1]/total)*math.log((total/x[1]),2)\n",
    "    return gain\n",
    "def calculateInfoA(attribute,label):\n",
    "    classes = []\n",
    "    \"\"\"Create classes array with count for attribute\"\"\"\n",
    "    for x in attribute:\n",
    "        isfound = False\n",
    "        for y in classes:\n",
    "            if y[0] == x:\n",
    "                isfound = True\n",
    "                y[1] += 1\n",
    "        if not isfound:\n",
    "            classes.append([x,1])\n",
    "    \"\"\"Calculate the infoA(D)\"\"\"\n",
    "    gain = 0\n",
    "    total = len(attribute)\n",
    "    for x in classes:\n",
    "        tempLabel = []\n",
    "        for i in range(len(label)):\n",
    "            if attribute[i] == x[0]:\n",
    "                tempLabel.append(label[i])\n",
    "        gain += (x[1]/total)*calculateInfoD(tempLabel)\n",
    "    return gain\n",
    "def calculateGain(attribute,label,InfoD):\n",
    "    return InfoD - calculateInfoA(attribute,label)\n",
    "def getNode(dataset,deleteRows,label,InfoD,deleteCols):\n",
    "    temp_dataset = dataset\n",
    "    temp_dataset = np.delete(temp_dataset,deleteRows,1)\n",
    "    temp_label = label\n",
    "    temp_label = np.delete(temp_label,deleteRows)\n",
    "    gainArray = []\n",
    "    for i in range(len(temp_dataset)):\n",
    "        if i not in deleteCols:\n",
    "            gainArray.append(calculateGain(temp_dataset[i],temp_label,InfoD))\n",
    "        else:\n",
    "            gainArray.append(0)\n",
    "    return gainArray.index(max(gainArray))    \n",
    "def makeTree(dataset,deleteRows,label,InfoD,parentNode,edgeNum,deleteCols,dataRow):\n",
    "    nodeNum = getNode(dataset,deleteRows,label,InfoD,deleteCols)\n",
    "    node = Node(nodeNum,parentNode)\n",
    "    edge = {\"edgeNum\":edgeNum, \"node\":node}\n",
    "    parentNode.genChildren(edge)\n",
    "    parentNode = node\n",
    "    elements = []\n",
    "    for x in dataset[nodeNum]:\n",
    "        if x not in elements:\n",
    "            elements.append(x)\n",
    "    deleteRows = []\n",
    "    if nodeNum not in deleteCols:\n",
    "        deleteCols.append(nodeNum)\n",
    "    if len(deleteCols) is len(dataset):\n",
    "        for element in elements:\n",
    "            dataRow[nodeNum] = element\n",
    "            flag = False\n",
    "            store = 0\n",
    "            for idx,x in enumerate(dataset.T):\n",
    "                if np.array_equal(dataRow,x):\n",
    "                    flag = True\n",
    "                    store = idx\n",
    "                    break\n",
    "            if not flag:\n",
    "                store = random.randint(0,len(dataset[0])-2)\n",
    "            temp_node = Node(-2,parentNode)\n",
    "            edge = {\"edgeNum\":element, \"node\":temp_node, \"answer\":label[store]}\n",
    "            parentNode.genChildren(edge)\n",
    "        return 0\n",
    "    for x in elements:\n",
    "        dataRow[nodeNum] = x\n",
    "        for i in range(len(dataset[nodeNum])):\n",
    "            if x != dataset[nodeNum][i]:\n",
    "                deleteRows.append(i)\n",
    "        makeTree(dataset,deleteRows,label,InfoD,parentNode,x,deleteCols[:],dataRow[:])\n",
    "def decisionTreeClassifier(dataset,label):\n",
    "    InfoD = calculateInfoD(label)\n",
    "    root = Node(-1,None)\n",
    "    dataRow=[]\n",
    "    for x in range(len(dataset)):\n",
    "        dataRow.append(-1)\n",
    "    makeTree(dataset,[],label,InfoD,root,0,[],dataRow[:])\n",
    "    return root\n",
    "def predict(dataset,root):\n",
    "    predicted_values = []\n",
    "    for x in range(len(dataset[0])):\n",
    "        curr_node = root.children[0]['node']\n",
    "        while curr_node.value is not -2:\n",
    "            value = dataset[curr_node.value,x]\n",
    "            for y in range(len(curr_node.children)):\n",
    "                if curr_node.children[y]['edgeNum'] == value:\n",
    "                    store = y\n",
    "                    break\n",
    "            curr_node = curr_node.children[store]['node']\n",
    "        predicted_values.append(curr_node.parent.children[store]['answer'])\n",
    "    return predicted_values\n",
    "</code>"
   ]
  },
  {
   "cell_type": "code",
   "execution_count": null,
   "metadata": {
    "scrolled": true
   },
   "outputs": [],
   "source": [
    "X = transpose(X.as_matrix())\n",
    "Y = Y.values.tolist()\n",
    "# X\n",
    "Y_test = Y_test.values.tolist()\n",
    "X_test = transpose(X_test).as_matrix()\n",
    "root = ID3.decisionTreeClassifier(X,Y)\n",
    "\n",
    "# Y_predicted = ID3.predict(X_test,root)\n",
    "# print(Y_predicted)"
   ]
  },
  {
   "cell_type": "code",
   "execution_count": null,
   "metadata": {},
   "outputs": [],
   "source": [
    "accuracy_score(df['Class'].values.tolist(), Y_predict)"
   ]
  },
  {
   "cell_type": "markdown",
   "metadata": {},
   "source": [
    "### Conclusion\n",
    "Thus we have implemented ID3 using scikit learn on income prediction dataset and got accuracy of 73.53%. Also we implemented the algorithm in python and verified it on a different dataset on which we got accuracy of 95%."
   ]
  }
 ],
 "metadata": {
  "kernelspec": {
   "display_name": "Python 3",
   "language": "python",
   "name": "python3"
  },
  "language_info": {
   "codemirror_mode": {
    "name": "ipython",
    "version": 3
   },
   "file_extension": ".py",
   "mimetype": "text/x-python",
   "name": "python",
   "nbconvert_exporter": "python",
   "pygments_lexer": "ipython3",
   "version": "3.6.5"
  }
 },
 "nbformat": 4,
 "nbformat_minor": 2
}
