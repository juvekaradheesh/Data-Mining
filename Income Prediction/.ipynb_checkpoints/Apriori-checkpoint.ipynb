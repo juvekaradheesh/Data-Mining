{
 "cells": [
  {
   "cell_type": "code",
   "execution_count": 5,
   "metadata": {},
   "outputs": [],
   "source": [
    "%matplotlib inline\n",
    "\n",
    "import pandas as pd\n",
    "import numpy as np \n",
    "import matplotlib.pyplot as plt\n",
    "from itertools import combinations\n",
    "from mlxtend import frequent_patterns"
   ]
  },
  {
   "cell_type": "code",
   "execution_count": 23,
   "metadata": {},
   "outputs": [
    {
     "data": {
      "text/plain": [
       "Index([' List'], dtype='object')"
      ]
     },
     "execution_count": 23,
     "metadata": {},
     "output_type": "execute_result"
    }
   ],
   "source": [
    "df = pd.read_csv(\"monkey.csv\")\n",
    "df = df.drop(['TID'], axis=1)\n",
    "df.columns"
   ]
  },
  {
   "cell_type": "code",
   "execution_count": 27,
   "metadata": {},
   "outputs": [],
   "source": [
    "def convertToOnehot(df, col):\n",
    "    return df.join(df[col].str.get_dummies(\", \")).drop([' List'], axis=1)"
   ]
  },
  {
   "cell_type": "code",
   "execution_count": 29,
   "metadata": {},
   "outputs": [],
   "source": [
    "def checkForCombinations(combList, combTuple, r):\n",
    "    isPresent = True\n",
    "    for comb in combinations(combTuple, r):\n",
    "        if comb not in combList:\n",
    "            isPresent = False\n",
    "            break\n",
    "    return isPresent"
   ]
  },
  {
   "cell_type": "code",
   "execution_count": 31,
   "metadata": {},
   "outputs": [],
   "source": [
    "def combineCols(df, col1, col2):\n",
    "    return (df[col1] & df[col2])"
   ]
  },
  {
   "cell_type": "code",
   "execution_count": 33,
   "metadata": {},
   "outputs": [],
   "source": [
    "def getCount(df, col):\n",
    "    return len(df.loc[df[col] == 1])"
   ]
  },
  {
   "cell_type": "code",
   "execution_count": 43,
   "metadata": {},
   "outputs": [],
   "source": [
    "def getAllConfidence(elements, countDict, minConfidence):\n",
    "    for element in elements:\n",
    "        for comb in combinations(element, len(element) - 1):\n",
    "            comb = list(comb)\n",
    "            remaining = list(set(element) - set(comb))\n",
    "            if getConfidence(comb, remaining, countDict) > minConfidence:\n",
    "                print(comb,\"->\",remaining, getConfidence(comb, remaining, countDict))\n",
    "            if len(element) > 2 and (getConfidence(remaining, comb, countDict) > minConfidence):\n",
    "                print(remaining,\"->\",comb, getConfidence(remaining, comb, countDict))"
   ]
  },
  {
   "cell_type": "code",
   "execution_count": 38,
   "metadata": {},
   "outputs": [],
   "source": [
    "def getConfidence(items_given, support_items, countDict):\n",
    "    items_given.sort()\n",
    "    support_items = support_items + items_given\n",
    "    support_items.sort()\n",
    "    items_given_str = \"_\".join(items_given)\n",
    "    item_support_str = \"_\".join(support_items)\n",
    "    item_support = item_support_str\n",
    "    items = list(countDict.keys())\n",
    "    if (items_given_str not in items) or (item_support not in items):\n",
    "        return 0\n",
    "    else:\n",
    "        return (countDict[item_support]/ countDict[items_given_str])"
   ]
  },
  {
   "cell_type": "code",
   "execution_count": 14,
   "metadata": {},
   "outputs": [],
   "source": [
    "def apriori(df, col, s_count):\n",
    "    df = pd.DataFrame(df[col])\n",
    "    df = convertToOnehot(df, col)\n",
    "    items = df.columns\n",
    "    countDf = df.sum()\n",
    "    countDict = countDf.loc[countDf >= s_count].to_dict()\n",
    "    print(countDict)\n",
    "    items = list(countDict.keys())\n",
    "    combHist = []\n",
    "    combPrev = list(combinations(items, 1))\n",
    "    combNext = []\n",
    "    for i in range(2, len(items) - 1):\n",
    "        for comb in combinations(items, i):\n",
    "            if checkForCombinations(combPrev, comb, (i-1)):\n",
    "                combProp = \"_\".join(str(c) for c in comb)\n",
    "                col1 = \"_\".join(str(c) for c in comb[:-1])\n",
    "                col2 = str(comb[-1])\n",
    "                df[combProp] = combineCols(df, col1, col2)\n",
    "                countTemp = getCount(df, combProp)\n",
    "                if countTemp >= s_count:\n",
    "                    combNext.append(comb)\n",
    "                    countDict[combProp] = getCount(df, combProp)\n",
    "        combHist.append(combPrev)\n",
    "        combPrev = combNext\n",
    "    return countDict"
   ]
  },
  {
   "cell_type": "code",
   "execution_count": 40,
   "metadata": {},
   "outputs": [
    {
     "name": "stdout",
     "output_type": "stream",
     "text": [
      "{'E': 4, 'K': 4, 'M': 3, 'O': 3, 'Y': 3}\n"
     ]
    }
   ],
   "source": [
    "countDict2 = apriori(df,' List', 3)"
   ]
  },
  {
   "cell_type": "code",
   "execution_count": 41,
   "metadata": {},
   "outputs": [],
   "source": [
    "elements = [s.split(\"_\") for s in countDict2.keys() if len(s) > 2]"
   ]
  },
  {
   "cell_type": "code",
   "execution_count": 45,
   "metadata": {},
   "outputs": [
    {
     "name": "stdout",
     "output_type": "stream",
     "text": [
      "['E'] -> ['K'] 1.0\n",
      "['K'] -> ['E'] 1.0\n",
      "['E'] -> ['O'] 0.75\n",
      "['O'] -> ['E'] 1.0\n",
      "['K'] -> ['O'] 0.75\n",
      "['O'] -> ['K'] 1.0\n",
      "['E', 'K'] -> ['O'] 0.75\n",
      "['O'] -> ['E', 'K'] 1.0\n",
      "['E', 'O'] -> ['K'] 1.0\n",
      "['K'] -> ['E', 'O'] 0.75\n",
      "['K', 'O'] -> ['E'] 1.0\n",
      "['E'] -> ['K', 'O'] 0.75\n"
     ]
    }
   ],
   "source": [
    "getAllConfidence(elements, countDict2, 0.7)"
   ]
  },
  {
   "cell_type": "code",
   "execution_count": 46,
   "metadata": {},
   "outputs": [
    {
     "data": {
      "text/plain": [
       "{'E': 4,\n",
       " 'K': 4,\n",
       " 'M': 3,\n",
       " 'O': 3,\n",
       " 'Y': 3,\n",
       " 'E_K': 4,\n",
       " 'E_O': 3,\n",
       " 'K_O': 3,\n",
       " 'E_K_O': 3}"
      ]
     },
     "execution_count": 46,
     "metadata": {},
     "output_type": "execute_result"
    }
   ],
   "source": [
    "countDict2"
   ]
  },
  {
   "cell_type": "code",
   "execution_count": null,
   "metadata": {},
   "outputs": [],
   "source": []
  }
 ],
 "metadata": {
  "kernelspec": {
   "display_name": "Python 3",
   "language": "python",
   "name": "python3"
  },
  "language_info": {
   "codemirror_mode": {
    "name": "ipython",
    "version": 3
   },
   "file_extension": ".py",
   "mimetype": "text/x-python",
   "name": "python",
   "nbconvert_exporter": "python",
   "pygments_lexer": "ipython3",
   "version": "3.6.3"
  }
 },
 "nbformat": 4,
 "nbformat_minor": 2
}
