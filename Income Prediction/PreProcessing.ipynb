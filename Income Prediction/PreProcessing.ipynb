{
 "cells": [
  {
   "cell_type": "code",
   "execution_count": 179,
   "metadata": {},
   "outputs": [],
   "source": [
    "%matplotlib inline\n",
    "\n",
    "import pandas as pd\n",
    "import numpy as np \n",
    "import matplotlib.pyplot as plt\n",
    "import seaborn as sns\n",
    "import statistics as st\n",
    "import collections"
   ]
  },
  {
   "cell_type": "code",
   "execution_count": 180,
   "metadata": {
    "scrolled": false
   },
   "outputs": [
    {
     "data": {
      "text/html": [
       "<div>\n",
       "<style scoped>\n",
       "    .dataframe tbody tr th:only-of-type {\n",
       "        vertical-align: middle;\n",
       "    }\n",
       "\n",
       "    .dataframe tbody tr th {\n",
       "        vertical-align: top;\n",
       "    }\n",
       "\n",
       "    .dataframe thead th {\n",
       "        text-align: right;\n",
       "    }\n",
       "</style>\n",
       "<table border=\"1\" class=\"dataframe\">\n",
       "  <thead>\n",
       "    <tr style=\"text-align: right;\">\n",
       "      <th></th>\n",
       "      <th>Age</th>\n",
       "      <th>WorkClass</th>\n",
       "      <th>Final_wt</th>\n",
       "      <th>Education</th>\n",
       "      <th>Edu_num</th>\n",
       "      <th>Marital_stat</th>\n",
       "      <th>Occupation</th>\n",
       "      <th>Relationship</th>\n",
       "      <th>Race</th>\n",
       "      <th>Sex</th>\n",
       "      <th>cpt_gain</th>\n",
       "      <th>cpt_loss</th>\n",
       "      <th>Hr_per_week</th>\n",
       "      <th>Native_country</th>\n",
       "      <th>Salary</th>\n",
       "    </tr>\n",
       "  </thead>\n",
       "  <tbody>\n",
       "    <tr>\n",
       "      <th>0</th>\n",
       "      <td>39</td>\n",
       "      <td>State-gov</td>\n",
       "      <td>77516</td>\n",
       "      <td>Bachelors</td>\n",
       "      <td>13</td>\n",
       "      <td>Never-married</td>\n",
       "      <td>Adm-clerical</td>\n",
       "      <td>Not-in-family</td>\n",
       "      <td>White</td>\n",
       "      <td>Male</td>\n",
       "      <td>2174</td>\n",
       "      <td>0</td>\n",
       "      <td>40</td>\n",
       "      <td>United-States</td>\n",
       "      <td>&lt;=50K</td>\n",
       "    </tr>\n",
       "    <tr>\n",
       "      <th>1</th>\n",
       "      <td>50</td>\n",
       "      <td>Self-emp-not-inc</td>\n",
       "      <td>83311</td>\n",
       "      <td>Bachelors</td>\n",
       "      <td>13</td>\n",
       "      <td>Married-civ-spouse</td>\n",
       "      <td>Exec-managerial</td>\n",
       "      <td>Husband</td>\n",
       "      <td>White</td>\n",
       "      <td>Male</td>\n",
       "      <td>0</td>\n",
       "      <td>0</td>\n",
       "      <td>13</td>\n",
       "      <td>United-States</td>\n",
       "      <td>&lt;=50K</td>\n",
       "    </tr>\n",
       "    <tr>\n",
       "      <th>2</th>\n",
       "      <td>38</td>\n",
       "      <td>Private</td>\n",
       "      <td>215646</td>\n",
       "      <td>HS-grad</td>\n",
       "      <td>9</td>\n",
       "      <td>Divorced</td>\n",
       "      <td>Handlers-cleaners</td>\n",
       "      <td>Not-in-family</td>\n",
       "      <td>White</td>\n",
       "      <td>Male</td>\n",
       "      <td>0</td>\n",
       "      <td>0</td>\n",
       "      <td>40</td>\n",
       "      <td>United-States</td>\n",
       "      <td>&lt;=50K</td>\n",
       "    </tr>\n",
       "    <tr>\n",
       "      <th>3</th>\n",
       "      <td>53</td>\n",
       "      <td>Private</td>\n",
       "      <td>234721</td>\n",
       "      <td>11th</td>\n",
       "      <td>7</td>\n",
       "      <td>Married-civ-spouse</td>\n",
       "      <td>Handlers-cleaners</td>\n",
       "      <td>Husband</td>\n",
       "      <td>Black</td>\n",
       "      <td>Male</td>\n",
       "      <td>0</td>\n",
       "      <td>0</td>\n",
       "      <td>40</td>\n",
       "      <td>United-States</td>\n",
       "      <td>&lt;=50K</td>\n",
       "    </tr>\n",
       "    <tr>\n",
       "      <th>4</th>\n",
       "      <td>28</td>\n",
       "      <td>Private</td>\n",
       "      <td>338409</td>\n",
       "      <td>Bachelors</td>\n",
       "      <td>13</td>\n",
       "      <td>Married-civ-spouse</td>\n",
       "      <td>Prof-specialty</td>\n",
       "      <td>Wife</td>\n",
       "      <td>Black</td>\n",
       "      <td>Female</td>\n",
       "      <td>0</td>\n",
       "      <td>0</td>\n",
       "      <td>40</td>\n",
       "      <td>Cuba</td>\n",
       "      <td>&lt;=50K</td>\n",
       "    </tr>\n",
       "  </tbody>\n",
       "</table>\n",
       "</div>"
      ],
      "text/plain": [
       "   Age          WorkClass  Final_wt   Education  Edu_num         Marital_stat  \\\n",
       "0   39          State-gov     77516   Bachelors       13        Never-married   \n",
       "1   50   Self-emp-not-inc     83311   Bachelors       13   Married-civ-spouse   \n",
       "2   38            Private    215646     HS-grad        9             Divorced   \n",
       "3   53            Private    234721        11th        7   Married-civ-spouse   \n",
       "4   28            Private    338409   Bachelors       13   Married-civ-spouse   \n",
       "\n",
       "           Occupation    Relationship    Race      Sex  cpt_gain  cpt_loss  \\\n",
       "0        Adm-clerical   Not-in-family   White     Male      2174         0   \n",
       "1     Exec-managerial         Husband   White     Male         0         0   \n",
       "2   Handlers-cleaners   Not-in-family   White     Male         0         0   \n",
       "3   Handlers-cleaners         Husband   Black     Male         0         0   \n",
       "4      Prof-specialty            Wife   Black   Female         0         0   \n",
       "\n",
       "   Hr_per_week  Native_country  Salary  \n",
       "0           40   United-States   <=50K  \n",
       "1           13   United-States   <=50K  \n",
       "2           40   United-States   <=50K  \n",
       "3           40   United-States   <=50K  \n",
       "4           40            Cuba   <=50K  "
      ]
     },
     "execution_count": 180,
     "metadata": {},
     "output_type": "execute_result"
    }
   ],
   "source": [
    "df = pd.read_csv(\"Dataset/adult.csv\")\n",
    "df = df.replace(\" \",np.nan)\n",
    "df.head()"
   ]
  },
  {
   "cell_type": "markdown",
   "metadata": {},
   "source": [
    "## Handling missing values\n",
    "We need to fill the missing values of WorkClass which depends on Age."
   ]
  },
  {
   "cell_type": "code",
   "execution_count": 181,
   "metadata": {},
   "outputs": [
    {
     "data": {
      "text/plain": [
       "False"
      ]
     },
     "execution_count": 181,
     "metadata": {},
     "output_type": "execute_result"
    }
   ],
   "source": [
    "df[\"Education\"].isnull().values.any()"
   ]
  },
  {
   "cell_type": "code",
   "execution_count": 182,
   "metadata": {},
   "outputs": [
    {
     "data": {
      "text/plain": [
       "True"
      ]
     },
     "execution_count": 182,
     "metadata": {},
     "output_type": "execute_result"
    }
   ],
   "source": [
    "df[\"WorkClass\"].isnull().values.any()"
   ]
  },
  {
   "cell_type": "code",
   "execution_count": 183,
   "metadata": {},
   "outputs": [
    {
     "data": {
      "text/plain": [
       "False"
      ]
     },
     "execution_count": 183,
     "metadata": {},
     "output_type": "execute_result"
    }
   ],
   "source": [
    "df[\"Edu_num\"].isnull().values.any()"
   ]
  },
  {
   "cell_type": "code",
   "execution_count": 184,
   "metadata": {},
   "outputs": [
    {
     "data": {
      "text/plain": [
       "False"
      ]
     },
     "execution_count": 184,
     "metadata": {},
     "output_type": "execute_result"
    }
   ],
   "source": [
    "df[\"Sex\"].isnull().values.any()"
   ]
  },
  {
   "cell_type": "code",
   "execution_count": 185,
   "metadata": {},
   "outputs": [
    {
     "data": {
      "text/plain": [
       "False"
      ]
     },
     "execution_count": 185,
     "metadata": {},
     "output_type": "execute_result"
    }
   ],
   "source": [
    "df[\"Relationship\"].isnull().values.any()"
   ]
  },
  {
   "cell_type": "code",
   "execution_count": 186,
   "metadata": {},
   "outputs": [
    {
     "data": {
      "text/plain": [
       "False"
      ]
     },
     "execution_count": 186,
     "metadata": {},
     "output_type": "execute_result"
    }
   ],
   "source": [
    "df[\"Marital_stat\"].isnull().values.any()"
   ]
  },
  {
   "cell_type": "code",
   "execution_count": 187,
   "metadata": {},
   "outputs": [
    {
     "data": {
      "text/plain": [
       "True"
      ]
     },
     "execution_count": 187,
     "metadata": {},
     "output_type": "execute_result"
    }
   ],
   "source": [
    "df[\"Occupation\"].isnull().values.any()"
   ]
  },
  {
   "cell_type": "code",
   "execution_count": 188,
   "metadata": {},
   "outputs": [
    {
     "data": {
      "text/plain": [
       "False"
      ]
     },
     "execution_count": 188,
     "metadata": {},
     "output_type": "execute_result"
    }
   ],
   "source": [
    "df[\"Race\"].isnull().values.any()"
   ]
  },
  {
   "cell_type": "code",
   "execution_count": 189,
   "metadata": {},
   "outputs": [
    {
     "data": {
      "text/plain": [
       "False"
      ]
     },
     "execution_count": 189,
     "metadata": {},
     "output_type": "execute_result"
    }
   ],
   "source": [
    "df[\"cpt_gain\"].isnull().values.any()"
   ]
  },
  {
   "cell_type": "code",
   "execution_count": 190,
   "metadata": {},
   "outputs": [
    {
     "data": {
      "text/plain": [
       "True"
      ]
     },
     "execution_count": 190,
     "metadata": {},
     "output_type": "execute_result"
    }
   ],
   "source": [
    "df[\"Native_country\"].isnull().values.any()"
   ]
  },
  {
   "cell_type": "code",
   "execution_count": 191,
   "metadata": {},
   "outputs": [
    {
     "data": {
      "text/plain": [
       "False"
      ]
     },
     "execution_count": 191,
     "metadata": {},
     "output_type": "execute_result"
    }
   ],
   "source": [
    "df[\"Salary\"].isnull().values.any()"
   ]
  },
  {
   "cell_type": "code",
   "execution_count": 192,
   "metadata": {},
   "outputs": [],
   "source": [
    "df_temp = df\n",
    "x = 0\n",
    "y = 20\n",
    "\n",
    "temp = []\n",
    "while (x<=80):\n",
    "    workclass = []\n",
    "    for index, row in df_temp.iterrows():\n",
    "        if (row[\"Age\"] > x) and (row[\"Age\"] <= y):\n",
    "            workclass.append(row[\"WorkClass\"])\n",
    "    x = x + 20\n",
    "    y = y + 20\n",
    "    temp.append(st.mode(workclass))\n",
    "list(temp)\n",
    "\n",
    "df = df_temp\n",
    "\n",
    "df_temp[\"WorkClass\"].fillna(\"Private\",inplace=True)"
   ]
  },
  {
   "cell_type": "markdown",
   "metadata": {},
   "source": [
    "Check if all null values are filled"
   ]
  },
  {
   "cell_type": "code",
   "execution_count": 193,
   "metadata": {},
   "outputs": [
    {
     "data": {
      "text/plain": [
       "False"
      ]
     },
     "execution_count": 193,
     "metadata": {},
     "output_type": "execute_result"
    }
   ],
   "source": [
    "df_temp[\"WorkClass\"].isnull().values.any()"
   ]
  },
  {
   "cell_type": "markdown",
   "metadata": {},
   "source": [
    "### Handling NaN value for Occupation attribute.Occupation is dependent on education qualification of a person that is Education "
   ]
  },
  {
   "cell_type": "code",
   "execution_count": 194,
   "metadata": {},
   "outputs": [],
   "source": [
    "df_temp = df\n",
    "Uni_edu = df[\"Education\"].unique()\n",
    "\n",
    "\n",
    "dicts = {}\n",
    "grouped = df_temp.groupby('Education')\n",
    "for name,group in grouped:\n",
    "    mode = st.mode(group[\"Occupation\"])\n",
    "    dicts[name] = mode\n",
    "\n",
    "df.Occupation = df.Occupation.fillna(df.Education.map(dicts))"
   ]
  },
  {
   "cell_type": "markdown",
   "metadata": {},
   "source": [
    "Check if all null values are filled"
   ]
  },
  {
   "cell_type": "code",
   "execution_count": 195,
   "metadata": {},
   "outputs": [
    {
     "data": {
      "text/plain": [
       "False"
      ]
     },
     "execution_count": 195,
     "metadata": {},
     "output_type": "execute_result"
    }
   ],
   "source": [
    "df_temp[\"WorkClass\"].isnull().values.any()"
   ]
  },
  {
   "cell_type": "markdown",
   "metadata": {},
   "source": [
    "## OUTLIERS"
   ]
  },
  {
   "cell_type": "markdown",
   "metadata": {},
   "source": [
    "### Age"
   ]
  },
  {
   "cell_type": "markdown",
   "metadata": {},
   "source": [
    "For attribute Age, we consider persons with frequency(or count) of less than 10 for a particular age as outliers "
   ]
  },
  {
   "cell_type": "code",
   "execution_count": 196,
   "metadata": {},
   "outputs": [
    {
     "name": "stdout",
     "output_type": "stream",
     "text": [
      "{83: 6, 85: 3, 86: 1, 87: 1, 88: 3}\n",
      "[83, 85, 86, 87, 88]\n"
     ]
    }
   ],
   "source": [
    "df_temp = df.groupby('Age')[\"Education\"].count()\n",
    "dicts = {}\n",
    "agelist=[]\n",
    "for index_val, series_val in df_temp.iteritems():\n",
    "    if series_val < 10:\n",
    "        dicts[index_val] = series_val\n",
    "        agelist.append(index_val)\n",
    "print(dicts)\n",
    "print(agelist)"
   ]
  },
  {
   "cell_type": "markdown",
   "metadata": {},
   "source": [
    "We just need to remove tuples from main dataframe with age whose count is less than 10"
   ]
  },
  {
   "cell_type": "code",
   "execution_count": 197,
   "metadata": {},
   "outputs": [
    {
     "data": {
      "text/plain": [
       "array([39, 50, 38, 53, 28, 37, 49, 52, 31, 42, 30, 23, 32, 40, 34, 25, 43,\n",
       "       54, 35, 59, 56, 19, 20, 45, 22, 48, 21, 24, 57, 44, 41, 29, 18, 47,\n",
       "       46, 36, 79, 27, 67, 33, 76, 17, 55, 61, 70, 64, 71, 68, 66, 51, 58,\n",
       "       26, 60, 90, 75, 65, 77, 62, 63, 80, 72, 74, 69, 73, 81, 78, 82, 84],\n",
       "      dtype=int64)"
      ]
     },
     "execution_count": 197,
     "metadata": {},
     "output_type": "execute_result"
    }
   ],
   "source": [
    "for ageval in agelist:\n",
    "    df = df[df.Age != ageval]\n",
    "df.Age.unique()"
   ]
  },
  {
   "cell_type": "markdown",
   "metadata": {},
   "source": [
    " ### Workclass"
   ]
  },
  {
   "cell_type": "code",
   "execution_count": 198,
   "metadata": {
    "scrolled": true
   },
   "outputs": [
    {
     "data": {
      "text/plain": [
       "WorkClass\n",
       " Federal-gov           960\n",
       " Local-gov            2093\n",
       " Never-worked            7\n",
       " Private             22691\n",
       " Self-emp-inc         1113\n",
       " Self-emp-not-inc     2537\n",
       " State-gov            1298\n",
       " Without-pay            14\n",
       "Private               1834\n",
       "Name: Education, dtype: int64"
      ]
     },
     "execution_count": 198,
     "metadata": {},
     "output_type": "execute_result"
    }
   ],
   "source": [
    "df_temp = df.groupby('WorkClass')[\"Education\"].count()\n",
    "df_temp"
   ]
  },
  {
   "cell_type": "markdown",
   "metadata": {},
   "source": [
    "The values of class \"Never-worked\" and \"Without-pay\" are negligible when compared with values of other classes. Hence, we need to remove the rows with attributes \"Never-worked\" and \"Without-pay\""
   ]
  },
  {
   "cell_type": "code",
   "execution_count": 199,
   "metadata": {},
   "outputs": [
    {
     "data": {
      "text/plain": [
       "array([' State-gov', ' Self-emp-not-inc', ' Private', ' Federal-gov',\n",
       "       ' Local-gov', 'Private', ' Self-emp-inc'], dtype=object)"
      ]
     },
     "execution_count": 199,
     "metadata": {},
     "output_type": "execute_result"
    }
   ],
   "source": [
    "df = df[df.WorkClass != \" Never-worked\"]\n",
    "df = df[df.WorkClass != \" Without-pay\"]\n",
    "df.WorkClass.unique()"
   ]
  },
  {
   "cell_type": "markdown",
   "metadata": {},
   "source": [
    " ### Final Weight"
   ]
  },
  {
   "cell_type": "code",
   "execution_count": 200,
   "metadata": {},
   "outputs": [
    {
     "data": {
      "text/plain": [
       "1484705"
      ]
     },
     "execution_count": 200,
     "metadata": {},
     "output_type": "execute_result"
    }
   ],
   "source": [
    "#Visualization\n",
    "\n",
    "# sns.boxplot(x=\"Final_wt\",y=\"Salary\",data=df,palette='husl')\n",
    "\n",
    "#Showing data points along with boxplot\n",
    "#sns.swarmplot(x=\"Final_wt\",y=\"Salary\",data=df)\n",
    "df_temp = df\n",
    "# df_temp = df.groupby('Salary')[\"Final_wt\"].count()\n",
    "df_temp.Final_wt.min()\n",
    "df_temp.Final_wt.max()"
   ]
  },
  {
   "cell_type": "markdown",
   "metadata": {},
   "source": [
    "Now calculating the count for persons with final_wt value greater than 400000(count is 280) for case of salary>50k and value greater than 451000(count = 511) for case of salary<=50k "
   ]
  },
  {
   "cell_type": "code",
   "execution_count": 201,
   "metadata": {},
   "outputs": [
    {
     "data": {
      "text/plain": [
       "Age               0\n",
       "WorkClass         0\n",
       "Final_wt          0\n",
       "Education         0\n",
       "Edu_num           0\n",
       "Marital_stat      0\n",
       "Occupation        0\n",
       "Relationship      0\n",
       "Race              0\n",
       "Sex               0\n",
       "cpt_gain          0\n",
       "cpt_loss          0\n",
       "Hr_per_week       0\n",
       "Native_country    0\n",
       "Salary            0\n",
       "dtype: int64"
      ]
     },
     "execution_count": 201,
     "metadata": {},
     "output_type": "execute_result"
    }
   ],
   "source": [
    "df = df[(df.Final_wt < 400000) & (df.Salary == ' >50K') | (df.Final_wt < 451000) & (df.Salary == ' <=50K')]\n",
    "\n",
    "df_temp = df[(df.Final_wt >= 400000) & (df.Salary == ' >50K') | (df.Final_wt >= 451000) & (df.Salary == ' <=50K')]\n",
    "df_temp.count()"
   ]
  },
  {
   "cell_type": "markdown",
   "metadata": {},
   "source": [
    "### Education number"
   ]
  },
  {
   "cell_type": "code",
   "execution_count": 202,
   "metadata": {
    "scrolled": false
   },
   "outputs": [
    {
     "data": {
      "text/html": [
       "<div>\n",
       "<style scoped>\n",
       "    .dataframe tbody tr th:only-of-type {\n",
       "        vertical-align: middle;\n",
       "    }\n",
       "\n",
       "    .dataframe tbody tr th {\n",
       "        vertical-align: top;\n",
       "    }\n",
       "\n",
       "    .dataframe thead th {\n",
       "        text-align: right;\n",
       "    }\n",
       "</style>\n",
       "<table border=\"1\" class=\"dataframe\">\n",
       "  <thead>\n",
       "    <tr style=\"text-align: right;\">\n",
       "      <th></th>\n",
       "      <th>Age</th>\n",
       "      <th>WorkClass</th>\n",
       "      <th>Final_wt</th>\n",
       "      <th>Education</th>\n",
       "      <th>Marital_stat</th>\n",
       "      <th>Occupation</th>\n",
       "      <th>Relationship</th>\n",
       "      <th>Race</th>\n",
       "      <th>Sex</th>\n",
       "      <th>cpt_gain</th>\n",
       "      <th>cpt_loss</th>\n",
       "      <th>Hr_per_week</th>\n",
       "      <th>Native_country</th>\n",
       "      <th>Salary</th>\n",
       "    </tr>\n",
       "    <tr>\n",
       "      <th>Edu_num</th>\n",
       "      <th></th>\n",
       "      <th></th>\n",
       "      <th></th>\n",
       "      <th></th>\n",
       "      <th></th>\n",
       "      <th></th>\n",
       "      <th></th>\n",
       "      <th></th>\n",
       "      <th></th>\n",
       "      <th></th>\n",
       "      <th></th>\n",
       "      <th></th>\n",
       "      <th></th>\n",
       "      <th></th>\n",
       "    </tr>\n",
       "  </thead>\n",
       "  <tbody>\n",
       "    <tr>\n",
       "      <th>1</th>\n",
       "      <td>48</td>\n",
       "      <td>48</td>\n",
       "      <td>48</td>\n",
       "      <td>48</td>\n",
       "      <td>48</td>\n",
       "      <td>48</td>\n",
       "      <td>48</td>\n",
       "      <td>48</td>\n",
       "      <td>48</td>\n",
       "      <td>48</td>\n",
       "      <td>48</td>\n",
       "      <td>48</td>\n",
       "      <td>47</td>\n",
       "      <td>48</td>\n",
       "    </tr>\n",
       "    <tr>\n",
       "      <th>2</th>\n",
       "      <td>159</td>\n",
       "      <td>159</td>\n",
       "      <td>159</td>\n",
       "      <td>159</td>\n",
       "      <td>159</td>\n",
       "      <td>159</td>\n",
       "      <td>159</td>\n",
       "      <td>159</td>\n",
       "      <td>159</td>\n",
       "      <td>159</td>\n",
       "      <td>159</td>\n",
       "      <td>159</td>\n",
       "      <td>154</td>\n",
       "      <td>159</td>\n",
       "    </tr>\n",
       "    <tr>\n",
       "      <th>3</th>\n",
       "      <td>319</td>\n",
       "      <td>319</td>\n",
       "      <td>319</td>\n",
       "      <td>319</td>\n",
       "      <td>319</td>\n",
       "      <td>319</td>\n",
       "      <td>319</td>\n",
       "      <td>319</td>\n",
       "      <td>319</td>\n",
       "      <td>319</td>\n",
       "      <td>319</td>\n",
       "      <td>319</td>\n",
       "      <td>304</td>\n",
       "      <td>319</td>\n",
       "    </tr>\n",
       "    <tr>\n",
       "      <th>4</th>\n",
       "      <td>628</td>\n",
       "      <td>628</td>\n",
       "      <td>628</td>\n",
       "      <td>628</td>\n",
       "      <td>628</td>\n",
       "      <td>628</td>\n",
       "      <td>628</td>\n",
       "      <td>628</td>\n",
       "      <td>628</td>\n",
       "      <td>628</td>\n",
       "      <td>628</td>\n",
       "      <td>628</td>\n",
       "      <td>609</td>\n",
       "      <td>628</td>\n",
       "    </tr>\n",
       "    <tr>\n",
       "      <th>5</th>\n",
       "      <td>496</td>\n",
       "      <td>496</td>\n",
       "      <td>496</td>\n",
       "      <td>496</td>\n",
       "      <td>496</td>\n",
       "      <td>496</td>\n",
       "      <td>496</td>\n",
       "      <td>496</td>\n",
       "      <td>496</td>\n",
       "      <td>496</td>\n",
       "      <td>496</td>\n",
       "      <td>496</td>\n",
       "      <td>488</td>\n",
       "      <td>496</td>\n",
       "    </tr>\n",
       "  </tbody>\n",
       "</table>\n",
       "</div>"
      ],
      "text/plain": [
       "         Age  WorkClass  Final_wt  Education  Marital_stat  Occupation  \\\n",
       "Edu_num                                                                  \n",
       "1         48         48        48         48            48          48   \n",
       "2        159        159       159        159           159         159   \n",
       "3        319        319       319        319           319         319   \n",
       "4        628        628       628        628           628         628   \n",
       "5        496        496       496        496           496         496   \n",
       "\n",
       "         Relationship  Race  Sex  cpt_gain  cpt_loss  Hr_per_week  \\\n",
       "Edu_num                                                             \n",
       "1                  48    48   48        48        48           48   \n",
       "2                 159   159  159       159       159          159   \n",
       "3                 319   319  319       319       319          319   \n",
       "4                 628   628  628       628       628          628   \n",
       "5                 496   496  496       496       496          496   \n",
       "\n",
       "         Native_country  Salary  \n",
       "Edu_num                          \n",
       "1                    47      48  \n",
       "2                   154     159  \n",
       "3                   304     319  \n",
       "4                   609     628  \n",
       "5                   488     496  "
      ]
     },
     "execution_count": 202,
     "metadata": {},
     "output_type": "execute_result"
    }
   ],
   "source": [
    "df_temp = df.groupby('Edu_num').count()\n",
    "df_temp.head()"
   ]
  },
  {
   "cell_type": "markdown",
   "metadata": {},
   "source": [
    "### Marital status"
   ]
  },
  {
   "cell_type": "code",
   "execution_count": 203,
   "metadata": {},
   "outputs": [
    {
     "data": {
      "text/html": [
       "<div>\n",
       "<style scoped>\n",
       "    .dataframe tbody tr th:only-of-type {\n",
       "        vertical-align: middle;\n",
       "    }\n",
       "\n",
       "    .dataframe tbody tr th {\n",
       "        vertical-align: top;\n",
       "    }\n",
       "\n",
       "    .dataframe thead th {\n",
       "        text-align: right;\n",
       "    }\n",
       "</style>\n",
       "<table border=\"1\" class=\"dataframe\">\n",
       "  <thead>\n",
       "    <tr style=\"text-align: right;\">\n",
       "      <th></th>\n",
       "      <th>Age</th>\n",
       "      <th>WorkClass</th>\n",
       "      <th>Final_wt</th>\n",
       "      <th>Education</th>\n",
       "      <th>Edu_num</th>\n",
       "      <th>Occupation</th>\n",
       "      <th>Relationship</th>\n",
       "      <th>Race</th>\n",
       "      <th>Sex</th>\n",
       "      <th>cpt_gain</th>\n",
       "      <th>cpt_loss</th>\n",
       "      <th>Hr_per_week</th>\n",
       "      <th>Native_country</th>\n",
       "      <th>Salary</th>\n",
       "    </tr>\n",
       "    <tr>\n",
       "      <th>Marital_stat</th>\n",
       "      <th></th>\n",
       "      <th></th>\n",
       "      <th></th>\n",
       "      <th></th>\n",
       "      <th></th>\n",
       "      <th></th>\n",
       "      <th></th>\n",
       "      <th></th>\n",
       "      <th></th>\n",
       "      <th></th>\n",
       "      <th></th>\n",
       "      <th></th>\n",
       "      <th></th>\n",
       "      <th></th>\n",
       "    </tr>\n",
       "  </thead>\n",
       "  <tbody>\n",
       "    <tr>\n",
       "      <th>Divorced</th>\n",
       "      <td>4353</td>\n",
       "      <td>4353</td>\n",
       "      <td>4353</td>\n",
       "      <td>4353</td>\n",
       "      <td>4353</td>\n",
       "      <td>4353</td>\n",
       "      <td>4353</td>\n",
       "      <td>4353</td>\n",
       "      <td>4353</td>\n",
       "      <td>4353</td>\n",
       "      <td>4353</td>\n",
       "      <td>4353</td>\n",
       "      <td>4306</td>\n",
       "      <td>4353</td>\n",
       "    </tr>\n",
       "    <tr>\n",
       "      <th>Married-AF-spouse</th>\n",
       "      <td>21</td>\n",
       "      <td>21</td>\n",
       "      <td>21</td>\n",
       "      <td>21</td>\n",
       "      <td>21</td>\n",
       "      <td>21</td>\n",
       "      <td>21</td>\n",
       "      <td>21</td>\n",
       "      <td>21</td>\n",
       "      <td>21</td>\n",
       "      <td>21</td>\n",
       "      <td>21</td>\n",
       "      <td>21</td>\n",
       "      <td>21</td>\n",
       "    </tr>\n",
       "    <tr>\n",
       "      <th>Married-civ-spouse</th>\n",
       "      <td>14581</td>\n",
       "      <td>14581</td>\n",
       "      <td>14581</td>\n",
       "      <td>14581</td>\n",
       "      <td>14581</td>\n",
       "      <td>14581</td>\n",
       "      <td>14581</td>\n",
       "      <td>14581</td>\n",
       "      <td>14581</td>\n",
       "      <td>14581</td>\n",
       "      <td>14581</td>\n",
       "      <td>14581</td>\n",
       "      <td>14304</td>\n",
       "      <td>14581</td>\n",
       "    </tr>\n",
       "    <tr>\n",
       "      <th>Married-spouse-absent</th>\n",
       "      <td>407</td>\n",
       "      <td>407</td>\n",
       "      <td>407</td>\n",
       "      <td>407</td>\n",
       "      <td>407</td>\n",
       "      <td>407</td>\n",
       "      <td>407</td>\n",
       "      <td>407</td>\n",
       "      <td>407</td>\n",
       "      <td>407</td>\n",
       "      <td>407</td>\n",
       "      <td>407</td>\n",
       "      <td>387</td>\n",
       "      <td>407</td>\n",
       "    </tr>\n",
       "    <tr>\n",
       "      <th>Never-married</th>\n",
       "      <td>10417</td>\n",
       "      <td>10417</td>\n",
       "      <td>10417</td>\n",
       "      <td>10417</td>\n",
       "      <td>10417</td>\n",
       "      <td>10417</td>\n",
       "      <td>10417</td>\n",
       "      <td>10417</td>\n",
       "      <td>10417</td>\n",
       "      <td>10417</td>\n",
       "      <td>10417</td>\n",
       "      <td>10417</td>\n",
       "      <td>10226</td>\n",
       "      <td>10417</td>\n",
       "    </tr>\n",
       "  </tbody>\n",
       "</table>\n",
       "</div>"
      ],
      "text/plain": [
       "                          Age  WorkClass  Final_wt  Education  Edu_num  \\\n",
       "Marital_stat                                                             \n",
       " Divorced                4353       4353      4353       4353     4353   \n",
       " Married-AF-spouse         21         21        21         21       21   \n",
       " Married-civ-spouse     14581      14581     14581      14581    14581   \n",
       " Married-spouse-absent    407        407       407        407      407   \n",
       " Never-married          10417      10417     10417      10417    10417   \n",
       "\n",
       "                        Occupation  Relationship   Race    Sex  cpt_gain  \\\n",
       "Marital_stat                                                               \n",
       " Divorced                     4353          4353   4353   4353      4353   \n",
       " Married-AF-spouse              21            21     21     21        21   \n",
       " Married-civ-spouse          14581         14581  14581  14581     14581   \n",
       " Married-spouse-absent         407           407    407    407       407   \n",
       " Never-married               10417         10417  10417  10417     10417   \n",
       "\n",
       "                        cpt_loss  Hr_per_week  Native_country  Salary  \n",
       "Marital_stat                                                           \n",
       " Divorced                   4353         4353            4306    4353  \n",
       " Married-AF-spouse            21           21              21      21  \n",
       " Married-civ-spouse        14581        14581           14304   14581  \n",
       " Married-spouse-absent       407          407             387     407  \n",
       " Never-married             10417        10417           10226   10417  "
      ]
     },
     "execution_count": 203,
     "metadata": {},
     "output_type": "execute_result"
    }
   ],
   "source": [
    "df.Marital_stat.unique()\n",
    "df_temp = df.groupby('Marital_stat').count()\n",
    "df_temp.head()"
   ]
  },
  {
   "cell_type": "markdown",
   "metadata": {},
   "source": [
    "### Occupation"
   ]
  },
  {
   "cell_type": "code",
   "execution_count": 204,
   "metadata": {},
   "outputs": [
    {
     "data": {
      "text/html": [
       "<div>\n",
       "<style scoped>\n",
       "    .dataframe tbody tr th:only-of-type {\n",
       "        vertical-align: middle;\n",
       "    }\n",
       "\n",
       "    .dataframe tbody tr th {\n",
       "        vertical-align: top;\n",
       "    }\n",
       "\n",
       "    .dataframe thead th {\n",
       "        text-align: right;\n",
       "    }\n",
       "</style>\n",
       "<table border=\"1\" class=\"dataframe\">\n",
       "  <thead>\n",
       "    <tr style=\"text-align: right;\">\n",
       "      <th></th>\n",
       "      <th>Age</th>\n",
       "      <th>WorkClass</th>\n",
       "      <th>Final_wt</th>\n",
       "      <th>Education</th>\n",
       "      <th>Edu_num</th>\n",
       "      <th>Marital_stat</th>\n",
       "      <th>Relationship</th>\n",
       "      <th>Race</th>\n",
       "      <th>Sex</th>\n",
       "      <th>cpt_gain</th>\n",
       "      <th>cpt_loss</th>\n",
       "      <th>Hr_per_week</th>\n",
       "      <th>Native_country</th>\n",
       "      <th>Salary</th>\n",
       "    </tr>\n",
       "    <tr>\n",
       "      <th>Occupation</th>\n",
       "      <th></th>\n",
       "      <th></th>\n",
       "      <th></th>\n",
       "      <th></th>\n",
       "      <th></th>\n",
       "      <th></th>\n",
       "      <th></th>\n",
       "      <th></th>\n",
       "      <th></th>\n",
       "      <th></th>\n",
       "      <th></th>\n",
       "      <th></th>\n",
       "      <th></th>\n",
       "      <th></th>\n",
       "    </tr>\n",
       "  </thead>\n",
       "  <tbody>\n",
       "    <tr>\n",
       "      <th>Adm-clerical</th>\n",
       "      <td>4238</td>\n",
       "      <td>4238</td>\n",
       "      <td>4238</td>\n",
       "      <td>4238</td>\n",
       "      <td>4238</td>\n",
       "      <td>4238</td>\n",
       "      <td>4238</td>\n",
       "      <td>4238</td>\n",
       "      <td>4238</td>\n",
       "      <td>4238</td>\n",
       "      <td>4238</td>\n",
       "      <td>4238</td>\n",
       "      <td>4183</td>\n",
       "      <td>4238</td>\n",
       "    </tr>\n",
       "    <tr>\n",
       "      <th>Armed-Forces</th>\n",
       "      <td>9</td>\n",
       "      <td>9</td>\n",
       "      <td>9</td>\n",
       "      <td>9</td>\n",
       "      <td>9</td>\n",
       "      <td>9</td>\n",
       "      <td>9</td>\n",
       "      <td>9</td>\n",
       "      <td>9</td>\n",
       "      <td>9</td>\n",
       "      <td>9</td>\n",
       "      <td>9</td>\n",
       "      <td>9</td>\n",
       "      <td>9</td>\n",
       "    </tr>\n",
       "    <tr>\n",
       "      <th>Craft-repair</th>\n",
       "      <td>4636</td>\n",
       "      <td>4636</td>\n",
       "      <td>4636</td>\n",
       "      <td>4636</td>\n",
       "      <td>4636</td>\n",
       "      <td>4636</td>\n",
       "      <td>4636</td>\n",
       "      <td>4636</td>\n",
       "      <td>4636</td>\n",
       "      <td>4636</td>\n",
       "      <td>4636</td>\n",
       "      <td>4636</td>\n",
       "      <td>4559</td>\n",
       "      <td>4636</td>\n",
       "    </tr>\n",
       "    <tr>\n",
       "      <th>Exec-managerial</th>\n",
       "      <td>3960</td>\n",
       "      <td>3960</td>\n",
       "      <td>3960</td>\n",
       "      <td>3960</td>\n",
       "      <td>3960</td>\n",
       "      <td>3960</td>\n",
       "      <td>3960</td>\n",
       "      <td>3960</td>\n",
       "      <td>3960</td>\n",
       "      <td>3960</td>\n",
       "      <td>3960</td>\n",
       "      <td>3960</td>\n",
       "      <td>3887</td>\n",
       "      <td>3960</td>\n",
       "    </tr>\n",
       "    <tr>\n",
       "      <th>Farming-fishing</th>\n",
       "      <td>961</td>\n",
       "      <td>961</td>\n",
       "      <td>961</td>\n",
       "      <td>961</td>\n",
       "      <td>961</td>\n",
       "      <td>961</td>\n",
       "      <td>961</td>\n",
       "      <td>961</td>\n",
       "      <td>961</td>\n",
       "      <td>961</td>\n",
       "      <td>961</td>\n",
       "      <td>961</td>\n",
       "      <td>956</td>\n",
       "      <td>961</td>\n",
       "    </tr>\n",
       "  </tbody>\n",
       "</table>\n",
       "</div>"
      ],
      "text/plain": [
       "                   Age  WorkClass  Final_wt  Education  Edu_num  Marital_stat  \\\n",
       "Occupation                                                                      \n",
       " Adm-clerical     4238       4238      4238       4238     4238          4238   \n",
       " Armed-Forces        9          9         9          9        9             9   \n",
       " Craft-repair     4636       4636      4636       4636     4636          4636   \n",
       " Exec-managerial  3960       3960      3960       3960     3960          3960   \n",
       " Farming-fishing   961        961       961        961      961           961   \n",
       "\n",
       "                  Relationship  Race   Sex  cpt_gain  cpt_loss  Hr_per_week  \\\n",
       "Occupation                                                                    \n",
       " Adm-clerical             4238  4238  4238      4238      4238         4238   \n",
       " Armed-Forces                9     9     9         9         9            9   \n",
       " Craft-repair             4636  4636  4636      4636      4636         4636   \n",
       " Exec-managerial          3960  3960  3960      3960      3960         3960   \n",
       " Farming-fishing           961   961   961       961       961          961   \n",
       "\n",
       "                  Native_country  Salary  \n",
       "Occupation                                \n",
       " Adm-clerical               4183    4238  \n",
       " Armed-Forces                  9       9  \n",
       " Craft-repair               4559    4636  \n",
       " Exec-managerial            3887    3960  \n",
       " Farming-fishing             956     961  "
      ]
     },
     "execution_count": 204,
     "metadata": {},
     "output_type": "execute_result"
    }
   ],
   "source": [
    "df.Occupation.unique()\n",
    "df_temp = df.groupby('Occupation').count()\n",
    "df_temp.head()"
   ]
  },
  {
   "cell_type": "markdown",
   "metadata": {},
   "source": [
    "### Relationship"
   ]
  },
  {
   "cell_type": "code",
   "execution_count": 205,
   "metadata": {},
   "outputs": [
    {
     "data": {
      "text/html": [
       "<div>\n",
       "<style scoped>\n",
       "    .dataframe tbody tr th:only-of-type {\n",
       "        vertical-align: middle;\n",
       "    }\n",
       "\n",
       "    .dataframe tbody tr th {\n",
       "        vertical-align: top;\n",
       "    }\n",
       "\n",
       "    .dataframe thead th {\n",
       "        text-align: right;\n",
       "    }\n",
       "</style>\n",
       "<table border=\"1\" class=\"dataframe\">\n",
       "  <thead>\n",
       "    <tr style=\"text-align: right;\">\n",
       "      <th></th>\n",
       "      <th>Age</th>\n",
       "      <th>WorkClass</th>\n",
       "      <th>Final_wt</th>\n",
       "      <th>Education</th>\n",
       "      <th>Edu_num</th>\n",
       "      <th>Marital_stat</th>\n",
       "      <th>Occupation</th>\n",
       "      <th>Race</th>\n",
       "      <th>Sex</th>\n",
       "      <th>cpt_gain</th>\n",
       "      <th>cpt_loss</th>\n",
       "      <th>Hr_per_week</th>\n",
       "      <th>Native_country</th>\n",
       "      <th>Salary</th>\n",
       "    </tr>\n",
       "    <tr>\n",
       "      <th>Relationship</th>\n",
       "      <th></th>\n",
       "      <th></th>\n",
       "      <th></th>\n",
       "      <th></th>\n",
       "      <th></th>\n",
       "      <th></th>\n",
       "      <th></th>\n",
       "      <th></th>\n",
       "      <th></th>\n",
       "      <th></th>\n",
       "      <th></th>\n",
       "      <th></th>\n",
       "      <th></th>\n",
       "      <th></th>\n",
       "    </tr>\n",
       "  </thead>\n",
       "  <tbody>\n",
       "    <tr>\n",
       "      <th>Husband</th>\n",
       "      <td>12844</td>\n",
       "      <td>12844</td>\n",
       "      <td>12844</td>\n",
       "      <td>12844</td>\n",
       "      <td>12844</td>\n",
       "      <td>12844</td>\n",
       "      <td>12844</td>\n",
       "      <td>12844</td>\n",
       "      <td>12844</td>\n",
       "      <td>12844</td>\n",
       "      <td>12844</td>\n",
       "      <td>12844</td>\n",
       "      <td>12605</td>\n",
       "      <td>12844</td>\n",
       "    </tr>\n",
       "    <tr>\n",
       "      <th>Not-in-family</th>\n",
       "      <td>8113</td>\n",
       "      <td>8113</td>\n",
       "      <td>8113</td>\n",
       "      <td>8113</td>\n",
       "      <td>8113</td>\n",
       "      <td>8113</td>\n",
       "      <td>8113</td>\n",
       "      <td>8113</td>\n",
       "      <td>8113</td>\n",
       "      <td>8113</td>\n",
       "      <td>8113</td>\n",
       "      <td>8113</td>\n",
       "      <td>7968</td>\n",
       "      <td>8113</td>\n",
       "    </tr>\n",
       "    <tr>\n",
       "      <th>Other-relative</th>\n",
       "      <td>951</td>\n",
       "      <td>951</td>\n",
       "      <td>951</td>\n",
       "      <td>951</td>\n",
       "      <td>951</td>\n",
       "      <td>951</td>\n",
       "      <td>951</td>\n",
       "      <td>951</td>\n",
       "      <td>951</td>\n",
       "      <td>951</td>\n",
       "      <td>951</td>\n",
       "      <td>951</td>\n",
       "      <td>922</td>\n",
       "      <td>951</td>\n",
       "    </tr>\n",
       "    <tr>\n",
       "      <th>Own-child</th>\n",
       "      <td>4955</td>\n",
       "      <td>4955</td>\n",
       "      <td>4955</td>\n",
       "      <td>4955</td>\n",
       "      <td>4955</td>\n",
       "      <td>4955</td>\n",
       "      <td>4955</td>\n",
       "      <td>4955</td>\n",
       "      <td>4955</td>\n",
       "      <td>4955</td>\n",
       "      <td>4955</td>\n",
       "      <td>4955</td>\n",
       "      <td>4893</td>\n",
       "      <td>4955</td>\n",
       "    </tr>\n",
       "    <tr>\n",
       "      <th>Unmarried</th>\n",
       "      <td>3358</td>\n",
       "      <td>3358</td>\n",
       "      <td>3358</td>\n",
       "      <td>3358</td>\n",
       "      <td>3358</td>\n",
       "      <td>3358</td>\n",
       "      <td>3358</td>\n",
       "      <td>3358</td>\n",
       "      <td>3358</td>\n",
       "      <td>3358</td>\n",
       "      <td>3358</td>\n",
       "      <td>3358</td>\n",
       "      <td>3299</td>\n",
       "      <td>3358</td>\n",
       "    </tr>\n",
       "  </tbody>\n",
       "</table>\n",
       "</div>"
      ],
      "text/plain": [
       "                   Age  WorkClass  Final_wt  Education  Edu_num  Marital_stat  \\\n",
       "Relationship                                                                    \n",
       " Husband         12844      12844     12844      12844    12844         12844   \n",
       " Not-in-family    8113       8113      8113       8113     8113          8113   \n",
       " Other-relative    951        951       951        951      951           951   \n",
       " Own-child        4955       4955      4955       4955     4955          4955   \n",
       " Unmarried        3358       3358      3358       3358     3358          3358   \n",
       "\n",
       "                 Occupation   Race    Sex  cpt_gain  cpt_loss  Hr_per_week  \\\n",
       "Relationship                                                                 \n",
       " Husband              12844  12844  12844     12844     12844        12844   \n",
       " Not-in-family         8113   8113   8113      8113      8113         8113   \n",
       " Other-relative         951    951    951       951       951          951   \n",
       " Own-child             4955   4955   4955      4955      4955         4955   \n",
       " Unmarried             3358   3358   3358      3358      3358         3358   \n",
       "\n",
       "                 Native_country  Salary  \n",
       "Relationship                             \n",
       " Husband                  12605   12844  \n",
       " Not-in-family             7968    8113  \n",
       " Other-relative             922     951  \n",
       " Own-child                 4893    4955  \n",
       " Unmarried                 3299    3358  "
      ]
     },
     "execution_count": 205,
     "metadata": {},
     "output_type": "execute_result"
    }
   ],
   "source": [
    "df.Relationship.unique()\n",
    "df_temp = df.groupby('Relationship').count()\n",
    "df_temp.head()"
   ]
  },
  {
   "cell_type": "markdown",
   "metadata": {},
   "source": [
    "### Attribute Gender"
   ]
  },
  {
   "cell_type": "code",
   "execution_count": 206,
   "metadata": {},
   "outputs": [
    {
     "data": {
      "text/html": [
       "<div>\n",
       "<style scoped>\n",
       "    .dataframe tbody tr th:only-of-type {\n",
       "        vertical-align: middle;\n",
       "    }\n",
       "\n",
       "    .dataframe tbody tr th {\n",
       "        vertical-align: top;\n",
       "    }\n",
       "\n",
       "    .dataframe thead th {\n",
       "        text-align: right;\n",
       "    }\n",
       "</style>\n",
       "<table border=\"1\" class=\"dataframe\">\n",
       "  <thead>\n",
       "    <tr style=\"text-align: right;\">\n",
       "      <th></th>\n",
       "      <th>Age</th>\n",
       "      <th>WorkClass</th>\n",
       "      <th>Final_wt</th>\n",
       "      <th>Education</th>\n",
       "      <th>Edu_num</th>\n",
       "      <th>Marital_stat</th>\n",
       "      <th>Occupation</th>\n",
       "      <th>Relationship</th>\n",
       "      <th>Race</th>\n",
       "      <th>cpt_gain</th>\n",
       "      <th>cpt_loss</th>\n",
       "      <th>Hr_per_week</th>\n",
       "      <th>Native_country</th>\n",
       "      <th>Salary</th>\n",
       "    </tr>\n",
       "    <tr>\n",
       "      <th>Sex</th>\n",
       "      <th></th>\n",
       "      <th></th>\n",
       "      <th></th>\n",
       "      <th></th>\n",
       "      <th></th>\n",
       "      <th></th>\n",
       "      <th></th>\n",
       "      <th></th>\n",
       "      <th></th>\n",
       "      <th></th>\n",
       "      <th></th>\n",
       "      <th></th>\n",
       "      <th></th>\n",
       "      <th></th>\n",
       "    </tr>\n",
       "  </thead>\n",
       "  <tbody>\n",
       "    <tr>\n",
       "      <th>Female</th>\n",
       "      <td>10558</td>\n",
       "      <td>10558</td>\n",
       "      <td>10558</td>\n",
       "      <td>10558</td>\n",
       "      <td>10558</td>\n",
       "      <td>10558</td>\n",
       "      <td>10558</td>\n",
       "      <td>10558</td>\n",
       "      <td>10558</td>\n",
       "      <td>10558</td>\n",
       "      <td>10558</td>\n",
       "      <td>10558</td>\n",
       "      <td>10396</td>\n",
       "      <td>10558</td>\n",
       "    </tr>\n",
       "    <tr>\n",
       "      <th>Male</th>\n",
       "      <td>21192</td>\n",
       "      <td>21192</td>\n",
       "      <td>21192</td>\n",
       "      <td>21192</td>\n",
       "      <td>21192</td>\n",
       "      <td>21192</td>\n",
       "      <td>21192</td>\n",
       "      <td>21192</td>\n",
       "      <td>21192</td>\n",
       "      <td>21192</td>\n",
       "      <td>21192</td>\n",
       "      <td>21192</td>\n",
       "      <td>20786</td>\n",
       "      <td>21192</td>\n",
       "    </tr>\n",
       "  </tbody>\n",
       "</table>\n",
       "</div>"
      ],
      "text/plain": [
       "           Age  WorkClass  Final_wt  Education  Edu_num  Marital_stat  \\\n",
       "Sex                                                                     \n",
       " Female  10558      10558     10558      10558    10558         10558   \n",
       " Male    21192      21192     21192      21192    21192         21192   \n",
       "\n",
       "         Occupation  Relationship   Race  cpt_gain  cpt_loss  Hr_per_week  \\\n",
       "Sex                                                                         \n",
       " Female       10558         10558  10558     10558     10558        10558   \n",
       " Male         21192         21192  21192     21192     21192        21192   \n",
       "\n",
       "         Native_country  Salary  \n",
       "Sex                              \n",
       " Female           10396   10558  \n",
       " Male             20786   21192  "
      ]
     },
     "execution_count": 206,
     "metadata": {},
     "output_type": "execute_result"
    }
   ],
   "source": [
    "df_temp = df.groupby('Sex').count()\n",
    "df_temp\n",
    "#Distribution is uniform so no need of outlier removal......"
   ]
  },
  {
   "cell_type": "markdown",
   "metadata": {},
   "source": [
    "### Attribute Race"
   ]
  },
  {
   "cell_type": "code",
   "execution_count": 207,
   "metadata": {
    "scrolled": true
   },
   "outputs": [
    {
     "data": {
      "text/html": [
       "<div>\n",
       "<style scoped>\n",
       "    .dataframe tbody tr th:only-of-type {\n",
       "        vertical-align: middle;\n",
       "    }\n",
       "\n",
       "    .dataframe tbody tr th {\n",
       "        vertical-align: top;\n",
       "    }\n",
       "\n",
       "    .dataframe thead th {\n",
       "        text-align: right;\n",
       "    }\n",
       "</style>\n",
       "<table border=\"1\" class=\"dataframe\">\n",
       "  <thead>\n",
       "    <tr style=\"text-align: right;\">\n",
       "      <th></th>\n",
       "      <th>Age</th>\n",
       "      <th>WorkClass</th>\n",
       "      <th>Final_wt</th>\n",
       "      <th>Education</th>\n",
       "      <th>Edu_num</th>\n",
       "      <th>Marital_stat</th>\n",
       "      <th>Occupation</th>\n",
       "      <th>Relationship</th>\n",
       "      <th>Sex</th>\n",
       "      <th>cpt_gain</th>\n",
       "      <th>cpt_loss</th>\n",
       "      <th>Hr_per_week</th>\n",
       "      <th>Native_country</th>\n",
       "      <th>Salary</th>\n",
       "    </tr>\n",
       "    <tr>\n",
       "      <th>Race</th>\n",
       "      <th></th>\n",
       "      <th></th>\n",
       "      <th></th>\n",
       "      <th></th>\n",
       "      <th></th>\n",
       "      <th></th>\n",
       "      <th></th>\n",
       "      <th></th>\n",
       "      <th></th>\n",
       "      <th></th>\n",
       "      <th></th>\n",
       "      <th></th>\n",
       "      <th></th>\n",
       "      <th></th>\n",
       "    </tr>\n",
       "  </thead>\n",
       "  <tbody>\n",
       "    <tr>\n",
       "      <th>Amer-Indian-Eskimo</th>\n",
       "      <td>311</td>\n",
       "      <td>311</td>\n",
       "      <td>311</td>\n",
       "      <td>311</td>\n",
       "      <td>311</td>\n",
       "      <td>311</td>\n",
       "      <td>311</td>\n",
       "      <td>311</td>\n",
       "      <td>311</td>\n",
       "      <td>311</td>\n",
       "      <td>311</td>\n",
       "      <td>311</td>\n",
       "      <td>311</td>\n",
       "      <td>311</td>\n",
       "    </tr>\n",
       "    <tr>\n",
       "      <th>Asian-Pac-Islander</th>\n",
       "      <td>1033</td>\n",
       "      <td>1033</td>\n",
       "      <td>1033</td>\n",
       "      <td>1033</td>\n",
       "      <td>1033</td>\n",
       "      <td>1033</td>\n",
       "      <td>1033</td>\n",
       "      <td>1033</td>\n",
       "      <td>1033</td>\n",
       "      <td>1033</td>\n",
       "      <td>1033</td>\n",
       "      <td>1033</td>\n",
       "      <td>953</td>\n",
       "      <td>1033</td>\n",
       "    </tr>\n",
       "    <tr>\n",
       "      <th>Black</th>\n",
       "      <td>2948</td>\n",
       "      <td>2948</td>\n",
       "      <td>2948</td>\n",
       "      <td>2948</td>\n",
       "      <td>2948</td>\n",
       "      <td>2948</td>\n",
       "      <td>2948</td>\n",
       "      <td>2948</td>\n",
       "      <td>2948</td>\n",
       "      <td>2948</td>\n",
       "      <td>2948</td>\n",
       "      <td>2948</td>\n",
       "      <td>2858</td>\n",
       "      <td>2948</td>\n",
       "    </tr>\n",
       "    <tr>\n",
       "      <th>Other</th>\n",
       "      <td>268</td>\n",
       "      <td>268</td>\n",
       "      <td>268</td>\n",
       "      <td>268</td>\n",
       "      <td>268</td>\n",
       "      <td>268</td>\n",
       "      <td>268</td>\n",
       "      <td>268</td>\n",
       "      <td>268</td>\n",
       "      <td>268</td>\n",
       "      <td>268</td>\n",
       "      <td>268</td>\n",
       "      <td>250</td>\n",
       "      <td>268</td>\n",
       "    </tr>\n",
       "    <tr>\n",
       "      <th>White</th>\n",
       "      <td>27190</td>\n",
       "      <td>27190</td>\n",
       "      <td>27190</td>\n",
       "      <td>27190</td>\n",
       "      <td>27190</td>\n",
       "      <td>27190</td>\n",
       "      <td>27190</td>\n",
       "      <td>27190</td>\n",
       "      <td>27190</td>\n",
       "      <td>27190</td>\n",
       "      <td>27190</td>\n",
       "      <td>27190</td>\n",
       "      <td>26810</td>\n",
       "      <td>27190</td>\n",
       "    </tr>\n",
       "  </tbody>\n",
       "</table>\n",
       "</div>"
      ],
      "text/plain": [
       "                       Age  WorkClass  Final_wt  Education  Edu_num  \\\n",
       "Race                                                                  \n",
       " Amer-Indian-Eskimo    311        311       311        311      311   \n",
       " Asian-Pac-Islander   1033       1033      1033       1033     1033   \n",
       " Black                2948       2948      2948       2948     2948   \n",
       " Other                 268        268       268        268      268   \n",
       " White               27190      27190     27190      27190    27190   \n",
       "\n",
       "                     Marital_stat  Occupation  Relationship    Sex  cpt_gain  \\\n",
       "Race                                                                           \n",
       " Amer-Indian-Eskimo           311         311           311    311       311   \n",
       " Asian-Pac-Islander          1033        1033          1033   1033      1033   \n",
       " Black                       2948        2948          2948   2948      2948   \n",
       " Other                        268         268           268    268       268   \n",
       " White                      27190       27190         27190  27190     27190   \n",
       "\n",
       "                     cpt_loss  Hr_per_week  Native_country  Salary  \n",
       "Race                                                                \n",
       " Amer-Indian-Eskimo       311          311             311     311  \n",
       " Asian-Pac-Islander      1033         1033             953    1033  \n",
       " Black                   2948         2948            2858    2948  \n",
       " Other                    268          268             250     268  \n",
       " White                  27190        27190           26810   27190  "
      ]
     },
     "execution_count": 207,
     "metadata": {},
     "output_type": "execute_result"
    }
   ],
   "source": [
    "df_temp = df.groupby('Race').count()\n",
    "df_temp"
   ]
  },
  {
   "cell_type": "markdown",
   "metadata": {},
   "source": [
    "## Normalization "
   ]
  },
  {
   "cell_type": "markdown",
   "metadata": {},
   "source": [
    "For numeric attribute Final_wt"
   ]
  },
  {
   "cell_type": "code",
   "execution_count": 208,
   "metadata": {},
   "outputs": [
    {
     "data": {
      "text/html": [
       "<div>\n",
       "<style scoped>\n",
       "    .dataframe tbody tr th:only-of-type {\n",
       "        vertical-align: middle;\n",
       "    }\n",
       "\n",
       "    .dataframe tbody tr th {\n",
       "        vertical-align: top;\n",
       "    }\n",
       "\n",
       "    .dataframe thead th {\n",
       "        text-align: right;\n",
       "    }\n",
       "</style>\n",
       "<table border=\"1\" class=\"dataframe\">\n",
       "  <thead>\n",
       "    <tr style=\"text-align: right;\">\n",
       "      <th></th>\n",
       "      <th>Age</th>\n",
       "      <th>WorkClass</th>\n",
       "      <th>Final_wt</th>\n",
       "      <th>Education</th>\n",
       "      <th>Edu_num</th>\n",
       "      <th>Marital_stat</th>\n",
       "      <th>Occupation</th>\n",
       "      <th>Relationship</th>\n",
       "      <th>Race</th>\n",
       "      <th>Sex</th>\n",
       "      <th>cpt_gain</th>\n",
       "      <th>cpt_loss</th>\n",
       "      <th>Hr_per_week</th>\n",
       "      <th>Native_country</th>\n",
       "      <th>Salary</th>\n",
       "    </tr>\n",
       "  </thead>\n",
       "  <tbody>\n",
       "    <tr>\n",
       "      <th>0</th>\n",
       "      <td>39</td>\n",
       "      <td>State-gov</td>\n",
       "      <td>0.148712</td>\n",
       "      <td>Bachelors</td>\n",
       "      <td>13</td>\n",
       "      <td>Never-married</td>\n",
       "      <td>Adm-clerical</td>\n",
       "      <td>Not-in-family</td>\n",
       "      <td>White</td>\n",
       "      <td>Male</td>\n",
       "      <td>2174</td>\n",
       "      <td>0</td>\n",
       "      <td>40</td>\n",
       "      <td>United-States</td>\n",
       "      <td>&lt;=50K</td>\n",
       "    </tr>\n",
       "    <tr>\n",
       "      <th>1</th>\n",
       "      <td>50</td>\n",
       "      <td>Self-emp-not-inc</td>\n",
       "      <td>0.161924</td>\n",
       "      <td>Bachelors</td>\n",
       "      <td>13</td>\n",
       "      <td>Married-civ-spouse</td>\n",
       "      <td>Exec-managerial</td>\n",
       "      <td>Husband</td>\n",
       "      <td>White</td>\n",
       "      <td>Male</td>\n",
       "      <td>0</td>\n",
       "      <td>0</td>\n",
       "      <td>13</td>\n",
       "      <td>United-States</td>\n",
       "      <td>&lt;=50K</td>\n",
       "    </tr>\n",
       "    <tr>\n",
       "      <th>2</th>\n",
       "      <td>38</td>\n",
       "      <td>Private</td>\n",
       "      <td>0.463618</td>\n",
       "      <td>HS-grad</td>\n",
       "      <td>9</td>\n",
       "      <td>Divorced</td>\n",
       "      <td>Handlers-cleaners</td>\n",
       "      <td>Not-in-family</td>\n",
       "      <td>White</td>\n",
       "      <td>Male</td>\n",
       "      <td>0</td>\n",
       "      <td>0</td>\n",
       "      <td>40</td>\n",
       "      <td>United-States</td>\n",
       "      <td>&lt;=50K</td>\n",
       "    </tr>\n",
       "    <tr>\n",
       "      <th>3</th>\n",
       "      <td>53</td>\n",
       "      <td>Private</td>\n",
       "      <td>0.507105</td>\n",
       "      <td>11th</td>\n",
       "      <td>7</td>\n",
       "      <td>Married-civ-spouse</td>\n",
       "      <td>Handlers-cleaners</td>\n",
       "      <td>Husband</td>\n",
       "      <td>Black</td>\n",
       "      <td>Male</td>\n",
       "      <td>0</td>\n",
       "      <td>0</td>\n",
       "      <td>40</td>\n",
       "      <td>United-States</td>\n",
       "      <td>&lt;=50K</td>\n",
       "    </tr>\n",
       "    <tr>\n",
       "      <th>4</th>\n",
       "      <td>28</td>\n",
       "      <td>Private</td>\n",
       "      <td>0.743491</td>\n",
       "      <td>Bachelors</td>\n",
       "      <td>13</td>\n",
       "      <td>Married-civ-spouse</td>\n",
       "      <td>Prof-specialty</td>\n",
       "      <td>Wife</td>\n",
       "      <td>Black</td>\n",
       "      <td>Female</td>\n",
       "      <td>0</td>\n",
       "      <td>0</td>\n",
       "      <td>40</td>\n",
       "      <td>Cuba</td>\n",
       "      <td>&lt;=50K</td>\n",
       "    </tr>\n",
       "  </tbody>\n",
       "</table>\n",
       "</div>"
      ],
      "text/plain": [
       "   Age          WorkClass  Final_wt   Education  Edu_num         Marital_stat  \\\n",
       "0   39          State-gov  0.148712   Bachelors       13        Never-married   \n",
       "1   50   Self-emp-not-inc  0.161924   Bachelors       13   Married-civ-spouse   \n",
       "2   38            Private  0.463618     HS-grad        9             Divorced   \n",
       "3   53            Private  0.507105        11th        7   Married-civ-spouse   \n",
       "4   28            Private  0.743491   Bachelors       13   Married-civ-spouse   \n",
       "\n",
       "           Occupation    Relationship    Race      Sex  cpt_gain  cpt_loss  \\\n",
       "0        Adm-clerical   Not-in-family   White     Male      2174         0   \n",
       "1     Exec-managerial         Husband   White     Male         0         0   \n",
       "2   Handlers-cleaners   Not-in-family   White     Male         0         0   \n",
       "3   Handlers-cleaners         Husband   Black     Male         0         0   \n",
       "4      Prof-specialty            Wife   Black   Female         0         0   \n",
       "\n",
       "   Hr_per_week  Native_country  Salary  \n",
       "0           40   United-States   <=50K  \n",
       "1           13   United-States   <=50K  \n",
       "2           40   United-States   <=50K  \n",
       "3           40   United-States   <=50K  \n",
       "4           40            Cuba   <=50K  "
      ]
     },
     "execution_count": 208,
     "metadata": {},
     "output_type": "execute_result"
    }
   ],
   "source": [
    "ft_min = df.Final_wt.min()\n",
    "ft_max = df.Final_wt.max()\n",
    "df[\"Final_wt\"] = (df[\"Final_wt\"]-ft_min)/(ft_max - ft_min)\n",
    "df.head()"
   ]
  },
  {
   "cell_type": "markdown",
   "metadata": {},
   "source": [
    "For ATTRIBUTE Hr_per_week"
   ]
  },
  {
   "cell_type": "code",
   "execution_count": 209,
   "metadata": {},
   "outputs": [
    {
     "name": "stdout",
     "output_type": "stream",
     "text": [
      "99 1\n"
     ]
    }
   ],
   "source": [
    "hr_per_week_min = df.Hr_per_week.min()\n",
    "hr_per_week_max = df.Hr_per_week.max()\n",
    "print(hr_per_week_max, hr_per_week_min)\n",
    "#This attribute doent need to be normalized because range is less ....."
   ]
  },
  {
   "cell_type": "markdown",
   "metadata": {},
   "source": [
    "For Attribute Edu_num"
   ]
  },
  {
   "cell_type": "code",
   "execution_count": 210,
   "metadata": {},
   "outputs": [
    {
     "name": "stdout",
     "output_type": "stream",
     "text": [
      "1 99\n"
     ]
    }
   ],
   "source": [
    "Edu_num_min = df.Hr_per_week.min()\n",
    "Edu_num_max = df.Hr_per_week.max()\n",
    "print(Edu_num_min,Edu_num_max)"
   ]
  },
  {
   "cell_type": "markdown",
   "metadata": {},
   "source": [
    "## Reduction"
   ]
  },
  {
   "cell_type": "markdown",
   "metadata": {},
   "source": [
    "Count for non-zero values for capital gain attribute."
   ]
  },
  {
   "cell_type": "code",
   "execution_count": 211,
   "metadata": {},
   "outputs": [
    {
     "data": {
      "text/plain": [
       "Age               2635\n",
       "WorkClass         2635\n",
       "Final_wt          2635\n",
       "Education         2635\n",
       "Edu_num           2635\n",
       "Marital_stat      2635\n",
       "Occupation        2635\n",
       "Relationship      2635\n",
       "Race              2635\n",
       "Sex               2635\n",
       "cpt_gain          2635\n",
       "cpt_loss          2635\n",
       "Hr_per_week       2635\n",
       "Native_country    2583\n",
       "Salary            2635\n",
       "dtype: int64"
      ]
     },
     "execution_count": 211,
     "metadata": {},
     "output_type": "execute_result"
    }
   ],
   "source": [
    "df_temp1 = df\n",
    "df_temp1 = df_temp1[df_temp1[\"cpt_gain\"] > 0]\n",
    "df_temp1.count()"
   ]
  },
  {
   "cell_type": "markdown",
   "metadata": {},
   "source": [
    "Count for non-zero values for capital loss attribute.\n"
   ]
  },
  {
   "cell_type": "code",
   "execution_count": 212,
   "metadata": {},
   "outputs": [
    {
     "data": {
      "text/plain": [
       "Age               1484\n",
       "WorkClass         1484\n",
       "Final_wt          1484\n",
       "Education         1484\n",
       "Edu_num           1484\n",
       "Marital_stat      1484\n",
       "Occupation        1484\n",
       "Relationship      1484\n",
       "Race              1484\n",
       "Sex               1484\n",
       "cpt_gain          1484\n",
       "cpt_loss          1484\n",
       "Hr_per_week       1484\n",
       "Native_country    1448\n",
       "Salary            1484\n",
       "dtype: int64"
      ]
     },
     "execution_count": 212,
     "metadata": {},
     "output_type": "execute_result"
    }
   ],
   "source": [
    "df_temp1 = df\n",
    "df_temp1 = df_temp1[df_temp1[\"cpt_loss\"] > 0]\n",
    "df_temp1.count()"
   ]
  },
  {
   "cell_type": "markdown",
   "metadata": {},
   "source": [
    "Number of non-zero values for both the attibutes in the dataframe were very less and in UCI ML library no description for these attributes were provided,Hence we drop these attributes(cpt_gain, cpt_loss)\n",
    "Also, we are unable to fill the null values for native country we are droping the column"
   ]
  },
  {
   "cell_type": "code",
   "execution_count": 213,
   "metadata": {},
   "outputs": [
    {
     "data": {
      "text/html": [
       "<div>\n",
       "<style scoped>\n",
       "    .dataframe tbody tr th:only-of-type {\n",
       "        vertical-align: middle;\n",
       "    }\n",
       "\n",
       "    .dataframe tbody tr th {\n",
       "        vertical-align: top;\n",
       "    }\n",
       "\n",
       "    .dataframe thead th {\n",
       "        text-align: right;\n",
       "    }\n",
       "</style>\n",
       "<table border=\"1\" class=\"dataframe\">\n",
       "  <thead>\n",
       "    <tr style=\"text-align: right;\">\n",
       "      <th></th>\n",
       "      <th>Age</th>\n",
       "      <th>WorkClass</th>\n",
       "      <th>Final_wt</th>\n",
       "      <th>Education</th>\n",
       "      <th>Edu_num</th>\n",
       "      <th>Marital_stat</th>\n",
       "      <th>Occupation</th>\n",
       "      <th>Relationship</th>\n",
       "      <th>Race</th>\n",
       "      <th>Sex</th>\n",
       "      <th>Hr_per_week</th>\n",
       "      <th>Salary</th>\n",
       "    </tr>\n",
       "  </thead>\n",
       "  <tbody>\n",
       "    <tr>\n",
       "      <th>0</th>\n",
       "      <td>39</td>\n",
       "      <td>State-gov</td>\n",
       "      <td>0.148712</td>\n",
       "      <td>Bachelors</td>\n",
       "      <td>13</td>\n",
       "      <td>Never-married</td>\n",
       "      <td>Adm-clerical</td>\n",
       "      <td>Not-in-family</td>\n",
       "      <td>White</td>\n",
       "      <td>Male</td>\n",
       "      <td>40</td>\n",
       "      <td>&lt;=50K</td>\n",
       "    </tr>\n",
       "    <tr>\n",
       "      <th>1</th>\n",
       "      <td>50</td>\n",
       "      <td>Self-emp-not-inc</td>\n",
       "      <td>0.161924</td>\n",
       "      <td>Bachelors</td>\n",
       "      <td>13</td>\n",
       "      <td>Married-civ-spouse</td>\n",
       "      <td>Exec-managerial</td>\n",
       "      <td>Husband</td>\n",
       "      <td>White</td>\n",
       "      <td>Male</td>\n",
       "      <td>13</td>\n",
       "      <td>&lt;=50K</td>\n",
       "    </tr>\n",
       "    <tr>\n",
       "      <th>2</th>\n",
       "      <td>38</td>\n",
       "      <td>Private</td>\n",
       "      <td>0.463618</td>\n",
       "      <td>HS-grad</td>\n",
       "      <td>9</td>\n",
       "      <td>Divorced</td>\n",
       "      <td>Handlers-cleaners</td>\n",
       "      <td>Not-in-family</td>\n",
       "      <td>White</td>\n",
       "      <td>Male</td>\n",
       "      <td>40</td>\n",
       "      <td>&lt;=50K</td>\n",
       "    </tr>\n",
       "    <tr>\n",
       "      <th>3</th>\n",
       "      <td>53</td>\n",
       "      <td>Private</td>\n",
       "      <td>0.507105</td>\n",
       "      <td>11th</td>\n",
       "      <td>7</td>\n",
       "      <td>Married-civ-spouse</td>\n",
       "      <td>Handlers-cleaners</td>\n",
       "      <td>Husband</td>\n",
       "      <td>Black</td>\n",
       "      <td>Male</td>\n",
       "      <td>40</td>\n",
       "      <td>&lt;=50K</td>\n",
       "    </tr>\n",
       "    <tr>\n",
       "      <th>4</th>\n",
       "      <td>28</td>\n",
       "      <td>Private</td>\n",
       "      <td>0.743491</td>\n",
       "      <td>Bachelors</td>\n",
       "      <td>13</td>\n",
       "      <td>Married-civ-spouse</td>\n",
       "      <td>Prof-specialty</td>\n",
       "      <td>Wife</td>\n",
       "      <td>Black</td>\n",
       "      <td>Female</td>\n",
       "      <td>40</td>\n",
       "      <td>&lt;=50K</td>\n",
       "    </tr>\n",
       "  </tbody>\n",
       "</table>\n",
       "</div>"
      ],
      "text/plain": [
       "   Age          WorkClass  Final_wt   Education  Edu_num         Marital_stat  \\\n",
       "0   39          State-gov  0.148712   Bachelors       13        Never-married   \n",
       "1   50   Self-emp-not-inc  0.161924   Bachelors       13   Married-civ-spouse   \n",
       "2   38            Private  0.463618     HS-grad        9             Divorced   \n",
       "3   53            Private  0.507105        11th        7   Married-civ-spouse   \n",
       "4   28            Private  0.743491   Bachelors       13   Married-civ-spouse   \n",
       "\n",
       "           Occupation    Relationship    Race      Sex  Hr_per_week  Salary  \n",
       "0        Adm-clerical   Not-in-family   White     Male           40   <=50K  \n",
       "1     Exec-managerial         Husband   White     Male           13   <=50K  \n",
       "2   Handlers-cleaners   Not-in-family   White     Male           40   <=50K  \n",
       "3   Handlers-cleaners         Husband   Black     Male           40   <=50K  \n",
       "4      Prof-specialty            Wife   Black   Female           40   <=50K  "
      ]
     },
     "execution_count": 213,
     "metadata": {},
     "output_type": "execute_result"
    }
   ],
   "source": [
    "df = df.drop(['cpt_gain','cpt_loss','Native_country'],axis=1)\n",
    "df.head()"
   ]
  },
  {
   "cell_type": "markdown",
   "metadata": {},
   "source": [
    "## Coorelation"
   ]
  },
  {
   "cell_type": "markdown",
   "metadata": {},
   "source": [
    "Between Education and occupation"
   ]
  },
  {
   "cell_type": "code",
   "execution_count": 214,
   "metadata": {},
   "outputs": [
    {
     "data": {
      "text/plain": [
       "array([' Bachelors', ' HS-grad', ' 11th', ' Masters', ' 9th',\n",
       "       ' Some-college', ' Assoc-acdm', ' Assoc-voc', ' 7th-8th',\n",
       "       ' Doctorate', ' Prof-school', ' 5th-6th', ' 10th', ' 1st-4th',\n",
       "       ' Preschool', ' 12th'], dtype=object)"
      ]
     },
     "execution_count": 214,
     "metadata": {},
     "output_type": "execute_result"
    }
   ],
   "source": [
    "df.Education.unique()"
   ]
  },
  {
   "cell_type": "code",
   "execution_count": 215,
   "metadata": {},
   "outputs": [
    {
     "data": {
      "text/plain": [
       "(16, 14)"
      ]
     },
     "execution_count": 215,
     "metadata": {},
     "output_type": "execute_result"
    }
   ],
   "source": [
    "df_temp = df.groupby(['Education','Occupation'])['Age'].count()\n",
    "df_temp = pd.Series.to_frame(df_temp)\n",
    "df_temp\n",
    "occupation = [' Adm-clerical',' Craft-repair',' Exec-managerial',' Farming-fishing',' Handlers-cleaners',' Machine-op-inspct',' Other-service',' Priv-house-serv',' Prof-specialty',' Protective-serv',' Sales',' Tech-support',' Transport-moving',' Armed-Forces']\n",
    "\n",
    "df_temp = df_temp.reset_index()\n",
    "\n",
    "for education in df_temp.Education.unique():\n",
    "    df_temp2 = df_temp[df_temp.Education == education]\n",
    "    occupations_temp2 = df_temp2['Occupation'].tolist()\n",
    "    unlisted_occupations = list(set(occupation)-set(occupations_temp2))\n",
    "    for unlisted_occupation in unlisted_occupations:\n",
    "        df_temp.loc[len(df_temp)] = [education, unlisted_occupation, 0]\n",
    "    \n",
    "df_temp2 = df_temp.groupby(['Education', 'Occupation'])['Age'].mean()\n",
    "df_temp2 = df_temp2.reset_index()\n",
    "age_matrix = []\n",
    "for education in df_temp2.Education.unique():\n",
    "    age_matrix.append(df_temp2[df_temp2.Education == education].Age.tolist())\n",
    "age_matrix = np.array(age_matrix)\n",
    "age_matrix.shape"
   ]
  },
  {
   "cell_type": "code",
   "execution_count": 216,
   "metadata": {},
   "outputs": [],
   "source": [
    "edu_sum = age_matrix.sum(axis=1).reshape(16, 1)\n",
    "occu_sum = age_matrix.sum(axis=0).reshape(14, 1)"
   ]
  },
  {
   "cell_type": "code",
   "execution_count": 217,
   "metadata": {},
   "outputs": [
    {
     "data": {
      "text/plain": [
       "17845.799015124725"
      ]
     },
     "execution_count": 217,
     "metadata": {},
     "output_type": "execute_result"
    }
   ],
   "source": [
    "final_sum = edu_sum.sum()\n",
    "final_sum\n",
    "\n",
    "expected_matrix = np.dot(edu_sum, occu_sum.T) / final_sum\n",
    "chi_square = (np.power(age_matrix - expected_matrix, 2) / expected_matrix).sum()\n",
    "chi_square"
   ]
  },
  {
   "cell_type": "code",
   "execution_count": 218,
   "metadata": {},
   "outputs": [
    {
     "data": {
      "text/plain": [
       "195"
      ]
     },
     "execution_count": 218,
     "metadata": {},
     "output_type": "execute_result"
    }
   ],
   "source": [
    "degrees_of_freedom = (edu_sum.shape[0]-1)*(occu_sum.shape[0] - 1)\n",
    "degrees_of_freedom"
   ]
  },
  {
   "cell_type": "markdown",
   "metadata": {},
   "source": [
    " P value for 195 degrees of freedom and 0.05 LOS is 228.580.<br>\n",
    " Since 228.580 < χ2(17845.799015124725), hence our hypothesis that education and occupation are independant is rejected.<br>\n",
    " Hence we conclude that the two attributes Education and Occupation are dependant."
   ]
  },
  {
   "cell_type": "markdown",
   "metadata": {},
   "source": [
    "## Visualisation"
   ]
  },
  {
   "cell_type": "code",
   "execution_count": 219,
   "metadata": {},
   "outputs": [],
   "source": [
    "barplot = df\n",
    "# barplot.iloc[:,0]\n",
    "x=0\n",
    "y=20\n",
    "for i in range(5):\n",
    "    mask = ((barplot.Age > x) & (barplot.Age <= y))\n",
    "    barplot[\"Age\"] = barplot[\"Age\"].replace(barplot.loc[mask][\"Age\"], i)\n",
    "    x += 20\n",
    "    y += 20"
   ]
  },
  {
   "cell_type": "code",
   "execution_count": 220,
   "metadata": {},
   "outputs": [],
   "source": [
    "\n",
    "# barplot.head(100)\n",
    "\n",
    "lista = [' State-gov', ' Self-emp-not-inc', ' Private', ' Federal-gov',' Local-gov', np.nan, ' Self-emp-inc', ' Without-pay', ' Never-worked']\n",
    "\n",
    "a = []\n",
    "b = []\n",
    "c = []\n",
    "d = []\n",
    "e = []\n",
    "\n",
    "\n",
    "\n",
    "for x in lista:\n",
    "    count1=0\n",
    "    count2=0\n",
    "    count3=0\n",
    "    count4=0\n",
    "    count5=0\n",
    "    for index, row in barplot.iterrows():\n",
    "        if (row[\"Age\"] == 0) and (row[\"WorkClass\"] == x):\n",
    "            count1 += 1\n",
    "        if (row[\"Age\"] == 1) and (row[\"WorkClass\"] == x):\n",
    "            count2 += 1\n",
    "        if (row[\"Age\"] == 2) and (row[\"WorkClass\"] == x):\n",
    "            count3 += 1\n",
    "        if (row[\"Age\"] == 3) and (row[\"WorkClass\"] == x):\n",
    "            count4 += 1\n",
    "        if (row[\"Age\"] == 4) and (row[\"WorkClass\"] == x):\n",
    "            count5 += 1\n",
    "    a.append(count1)\n",
    "    b.append(count2)\n",
    "    c.append(count3)\n",
    "    d.append(count4)\n",
    "    e.append(count5)\n"
   ]
  },
  {
   "cell_type": "code",
   "execution_count": 221,
   "metadata": {},
   "outputs": [
    {
     "data": {
      "image/png": "[encoded data removed]",
      "text/plain": [
       "<matplotlib.figure.Figure at 0x1ec79d68>"
      ]
     },
     "metadata": {},
     "output_type": "display_data"
    }
   ],
   "source": [
    "r = [0,1,2,3,4]\n",
    "barwidth = 0.8\n",
    "names = ('A','B','C','D','E')\n",
    "\n",
    "age_np = np.array([a, b, c, d, e])\n",
    "age_np = age_np.T\n",
    "\n",
    "plt.bar(r, age_np[0], color='#c5ffb9', edgecolor='white', width=barwidth)\n",
    "c = ['#7986cb','#c5cae9','#5c6bc0','#3949ab','#81d4fa','#29b6f6','#039be5','#0277bd','#00838f']\n",
    "bottom = np.zeros((1, age_np.shape[1]))\n",
    "for i in range(1, age_np.shape[0]):\n",
    "    bottom = bottom + age_np[i - 1].reshape(1, age_np.shape[1])\n",
    "    plt.bar(r, age_np[i], bottom=bottom.ravel(), color=c[i], edgecolor='white', width=barwidth)\n",
    "\n",
    "# Custom x axis\n",
    "plt.xticks(r, names)\n",
    "plt.xlabel(\"Group\")\n",
    " \n",
    "\n",
    "plt.show()"
   ]
  },
  {
   "cell_type": "code",
   "execution_count": 222,
   "metadata": {},
   "outputs": [
    {
     "data": {
      "text/plain": [
       "<seaborn.axisgrid.PairGrid at 0x1c2c7898>"
      ]
     },
     "execution_count": 222,
     "metadata": {},
     "output_type": "execute_result"
    },
    {
     "data": {
      "image/png": "[encoded data removed]",
      "text/plain": [
       "<matplotlib.figure.Figure at 0x1c53bba8>"
      ]
     },
     "metadata": {},
     "output_type": "display_data"
    }
   ],
   "source": [
    "sns.pairplot(df, hue=\"Salary\")"
   ]
  }
 ],
 "metadata": {
  "kernelspec": {
   "display_name": "Python 3",
   "language": "python",
   "name": "python3"
  },
  "language_info": {
   "codemirror_mode": {
    "name": "ipython",
    "version": 3
   },
   "file_extension": ".py",
   "mimetype": "text/x-python",
   "name": "python",
   "nbconvert_exporter": "python",
   "pygments_lexer": "ipython3",
   "version": "3.6.3"
  }
 },
 "nbformat": 4,
 "nbformat_minor": 2
}
